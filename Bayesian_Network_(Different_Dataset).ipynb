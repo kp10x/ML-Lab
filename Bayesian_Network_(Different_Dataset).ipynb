{
  "nbformat": 4,
  "nbformat_minor": 0,
  "metadata": {
    "colab": {
      "name": "Bayesian Network (Different Dataset).ipynb",
      "provenance": [],
      "toc_visible": true,
      "authorship_tag": "ABX9TyNZuMSqbqKLMr0l8TyLURnk",
      "include_colab_link": true
    },
    "kernelspec": {
      "name": "python3",
      "display_name": "Python 3"
    },
    "language_info": {
      "name": "python"
    }
  },
  "cells": [
    {
      "cell_type": "markdown",
      "metadata": {
        "id": "view-in-github",
        "colab_type": "text"
      },
      "source": [
        "<a href=\"https://colab.research.google.com/github/kp10x/ML-Lab/blob/main/Bayesian_Network_(Different_Dataset).ipynb\" target=\"_parent\"><img src=\"https://colab.research.google.com/assets/colab-badge.svg\" alt=\"Open In Colab\"/></a>"
      ]
    },
    {
      "cell_type": "markdown",
      "metadata": {
        "id": "Mv-_qZ4uRNQz"
      },
      "source": [
        "# Bayesian Network (Different Dataset)"
      ]
    },
    {
      "cell_type": "code",
      "metadata": {
        "id": "eNp7USqDROdT"
      },
      "source": [
        "# install required packages\n",
        "! pip install pgmpy -q"
      ],
      "execution_count": 10,
      "outputs": []
    },
    {
      "cell_type": "code",
      "metadata": {
        "id": "qO8ZB2OdRUYJ"
      },
      "source": [
        "import numpy as np\n",
        "import pandas as pd\n",
        "import csv \n",
        "from pgmpy.estimators import MaximumLikelihoodEstimator\n",
        "from pgmpy.models import BayesianModel\n",
        "from pgmpy.inference import VariableElimination"
      ],
      "execution_count": 11,
      "outputs": []
    },
    {
      "cell_type": "code",
      "metadata": {
        "colab": {
          "base_uri": "https://localhost:8080/",
          "height": 343
        },
        "id": "A9Ao-8RLRWx4",
        "outputId": "7becbc55-521f-419a-bde1-a6c358d30288"
      },
      "source": [
        "dfDiabetes = pd.read_csv('diabetes.csv').head(50)\n",
        "dfDiabetes = dfDiabetes.replace('?',np.nan)\n",
        "\n",
        "dfDiabetes.sample(10)"
      ],
      "execution_count": 12,
      "outputs": [
        {
          "output_type": "execute_result",
          "data": {
            "text/html": [
              "<div>\n",
              "<style scoped>\n",
              "    .dataframe tbody tr th:only-of-type {\n",
              "        vertical-align: middle;\n",
              "    }\n",
              "\n",
              "    .dataframe tbody tr th {\n",
              "        vertical-align: top;\n",
              "    }\n",
              "\n",
              "    .dataframe thead th {\n",
              "        text-align: right;\n",
              "    }\n",
              "</style>\n",
              "<table border=\"1\" class=\"dataframe\">\n",
              "  <thead>\n",
              "    <tr style=\"text-align: right;\">\n",
              "      <th></th>\n",
              "      <th>Pregnancies</th>\n",
              "      <th>Glucose</th>\n",
              "      <th>BloodPressure</th>\n",
              "      <th>SkinThickness</th>\n",
              "      <th>Insulin</th>\n",
              "      <th>BMI</th>\n",
              "      <th>DiabetesPedigreeFunction</th>\n",
              "      <th>Age</th>\n",
              "      <th>Outcome</th>\n",
              "    </tr>\n",
              "  </thead>\n",
              "  <tbody>\n",
              "    <tr>\n",
              "      <th>2</th>\n",
              "      <td>8</td>\n",
              "      <td>183</td>\n",
              "      <td>64</td>\n",
              "      <td>0</td>\n",
              "      <td>0</td>\n",
              "      <td>23.3</td>\n",
              "      <td>0.672</td>\n",
              "      <td>32</td>\n",
              "      <td>1</td>\n",
              "    </tr>\n",
              "    <tr>\n",
              "      <th>6</th>\n",
              "      <td>3</td>\n",
              "      <td>78</td>\n",
              "      <td>50</td>\n",
              "      <td>32</td>\n",
              "      <td>88</td>\n",
              "      <td>31.0</td>\n",
              "      <td>0.248</td>\n",
              "      <td>26</td>\n",
              "      <td>1</td>\n",
              "    </tr>\n",
              "    <tr>\n",
              "      <th>39</th>\n",
              "      <td>4</td>\n",
              "      <td>111</td>\n",
              "      <td>72</td>\n",
              "      <td>47</td>\n",
              "      <td>207</td>\n",
              "      <td>37.1</td>\n",
              "      <td>1.390</td>\n",
              "      <td>56</td>\n",
              "      <td>1</td>\n",
              "    </tr>\n",
              "    <tr>\n",
              "      <th>1</th>\n",
              "      <td>1</td>\n",
              "      <td>85</td>\n",
              "      <td>66</td>\n",
              "      <td>29</td>\n",
              "      <td>0</td>\n",
              "      <td>26.6</td>\n",
              "      <td>0.351</td>\n",
              "      <td>31</td>\n",
              "      <td>0</td>\n",
              "    </tr>\n",
              "    <tr>\n",
              "      <th>20</th>\n",
              "      <td>3</td>\n",
              "      <td>126</td>\n",
              "      <td>88</td>\n",
              "      <td>41</td>\n",
              "      <td>235</td>\n",
              "      <td>39.3</td>\n",
              "      <td>0.704</td>\n",
              "      <td>27</td>\n",
              "      <td>0</td>\n",
              "    </tr>\n",
              "    <tr>\n",
              "      <th>17</th>\n",
              "      <td>7</td>\n",
              "      <td>107</td>\n",
              "      <td>74</td>\n",
              "      <td>0</td>\n",
              "      <td>0</td>\n",
              "      <td>29.6</td>\n",
              "      <td>0.254</td>\n",
              "      <td>31</td>\n",
              "      <td>1</td>\n",
              "    </tr>\n",
              "    <tr>\n",
              "      <th>11</th>\n",
              "      <td>10</td>\n",
              "      <td>168</td>\n",
              "      <td>74</td>\n",
              "      <td>0</td>\n",
              "      <td>0</td>\n",
              "      <td>38.0</td>\n",
              "      <td>0.537</td>\n",
              "      <td>34</td>\n",
              "      <td>1</td>\n",
              "    </tr>\n",
              "    <tr>\n",
              "      <th>37</th>\n",
              "      <td>9</td>\n",
              "      <td>102</td>\n",
              "      <td>76</td>\n",
              "      <td>37</td>\n",
              "      <td>0</td>\n",
              "      <td>32.9</td>\n",
              "      <td>0.665</td>\n",
              "      <td>46</td>\n",
              "      <td>1</td>\n",
              "    </tr>\n",
              "    <tr>\n",
              "      <th>19</th>\n",
              "      <td>1</td>\n",
              "      <td>115</td>\n",
              "      <td>70</td>\n",
              "      <td>30</td>\n",
              "      <td>96</td>\n",
              "      <td>34.6</td>\n",
              "      <td>0.529</td>\n",
              "      <td>32</td>\n",
              "      <td>1</td>\n",
              "    </tr>\n",
              "    <tr>\n",
              "      <th>29</th>\n",
              "      <td>5</td>\n",
              "      <td>117</td>\n",
              "      <td>92</td>\n",
              "      <td>0</td>\n",
              "      <td>0</td>\n",
              "      <td>34.1</td>\n",
              "      <td>0.337</td>\n",
              "      <td>38</td>\n",
              "      <td>0</td>\n",
              "    </tr>\n",
              "  </tbody>\n",
              "</table>\n",
              "</div>"
            ],
            "text/plain": [
              "    Pregnancies  Glucose  BloodPressure  ...  DiabetesPedigreeFunction  Age  Outcome\n",
              "2             8      183             64  ...                     0.672   32        1\n",
              "6             3       78             50  ...                     0.248   26        1\n",
              "39            4      111             72  ...                     1.390   56        1\n",
              "1             1       85             66  ...                     0.351   31        0\n",
              "20            3      126             88  ...                     0.704   27        0\n",
              "17            7      107             74  ...                     0.254   31        1\n",
              "11           10      168             74  ...                     0.537   34        1\n",
              "37            9      102             76  ...                     0.665   46        1\n",
              "19            1      115             70  ...                     0.529   32        1\n",
              "29            5      117             92  ...                     0.337   38        0\n",
              "\n",
              "[10 rows x 9 columns]"
            ]
          },
          "metadata": {
            "tags": []
          },
          "execution_count": 12
        }
      ]
    },
    {
      "cell_type": "code",
      "metadata": {
        "id": "6_oYy5yORZtz"
      },
      "source": [
        "model = BayesianModel(\n",
        "    [\n",
        "        (\"Glucose\", \"Outcome\"),\n",
        "        (\"BloodPressure\", \"Outcome\"),\n",
        "        (\"Age\", \"Outcome\"),\n",
        "    ]\n",
        ")"
      ],
      "execution_count": 13,
      "outputs": []
    },
    {
      "cell_type": "code",
      "metadata": {
        "id": "7jyRWzKgRdDn"
      },
      "source": [
        "model.fit(dfDiabetes, estimator=MaximumLikelihoodEstimator)"
      ],
      "execution_count": 14,
      "outputs": []
    },
    {
      "cell_type": "code",
      "metadata": {
        "id": "0kDjrof9RfCG"
      },
      "source": [
        "# Inferencing with Bayesian Network\n",
        "DiabetesTestInfer = VariableElimination(model)"
      ],
      "execution_count": 15,
      "outputs": []
    },
    {
      "cell_type": "code",
      "metadata": {
        "colab": {
          "base_uri": "https://localhost:8080/"
        },
        "id": "CfWpw0MFRjhP",
        "outputId": "b1cd3cd9-dc71-4cd3-8f35-53fd403d22c1"
      },
      "source": [
        "print('\\n 1. Probability of Diabetes given evidence= Glucose')\n",
        "q = DiabetesTestInfer.query(variables=['Outcome'], evidence={'Glucose':100})\n",
        "print(q)"
      ],
      "execution_count": 16,
      "outputs": [
        {
          "output_type": "stream",
          "text": [
            "Finding Elimination Order: : 100%|██████████| 2/2 [00:00<00:00, 273.69it/s]\n",
            "Eliminating: Age: 100%|██████████| 2/2 [00:00<00:00, 182.54it/s]"
          ],
          "name": "stderr"
        },
        {
          "output_type": "stream",
          "text": [
            "\n",
            " 1. Probability of Diabetes given evidence= Glucose\n",
            "+------------+----------------+\n",
            "| Outcome    |   phi(Outcome) |\n",
            "+============+================+\n",
            "| Outcome(0) |         0.4982 |\n",
            "+------------+----------------+\n",
            "| Outcome(1) |         0.5018 |\n",
            "+------------+----------------+\n"
          ],
          "name": "stdout"
        },
        {
          "output_type": "stream",
          "text": [
            "\n"
          ],
          "name": "stderr"
        }
      ]
    },
    {
      "cell_type": "code",
      "metadata": {
        "colab": {
          "base_uri": "https://localhost:8080/"
        },
        "id": "j0vkK6wrRmDb",
        "outputId": "25dbd27c-42b2-4be1-8953-f82a2f9f77c4"
      },
      "source": [
        "print('\\n 2. Probability of Diabetes given evidence= BloodPressure ')\n",
        "q = DiabetesTestInfer.query(variables=['Outcome'], evidence={'BloodPressure':80})\n",
        "print(q)"
      ],
      "execution_count": 17,
      "outputs": [
        {
          "output_type": "stream",
          "text": [
            "Finding Elimination Order: : 100%|██████████| 2/2 [00:00<00:00, 244.67it/s]\n",
            "Eliminating: Age: 100%|██████████| 2/2 [00:00<00:00, 189.25it/s]"
          ],
          "name": "stderr"
        },
        {
          "output_type": "stream",
          "text": [
            "\n",
            " 2. Probability of Diabetes given evidence= BloodPressure \n",
            "+------------+----------------+\n",
            "| Outcome    |   phi(Outcome) |\n",
            "+============+================+\n",
            "| Outcome(0) |         0.4998 |\n",
            "+------------+----------------+\n",
            "| Outcome(1) |         0.5002 |\n",
            "+------------+----------------+\n"
          ],
          "name": "stdout"
        },
        {
          "output_type": "stream",
          "text": [
            "\n"
          ],
          "name": "stderr"
        }
      ]
    },
    {
      "cell_type": "code",
      "metadata": {
        "colab": {
          "base_uri": "https://localhost:8080/"
        },
        "id": "xxFX4Ia_RoiL",
        "outputId": "e86bb02d-6d4e-4686-e37e-84fa9739b05d"
      },
      "source": [
        "print('\\n 2. Probability of Diabetes given evidence= Age ')\n",
        "q = DiabetesTestInfer.query(variables=['Outcome'], evidence={'Age':35})\n",
        "print(q)"
      ],
      "execution_count": 18,
      "outputs": [
        {
          "output_type": "stream",
          "text": [
            "Finding Elimination Order: : 100%|██████████| 2/2 [00:00<00:00, 182.89it/s]\n",
            "Eliminating: Glucose: 100%|██████████| 2/2 [00:00<00:00, 85.06it/s]"
          ],
          "name": "stderr"
        },
        {
          "output_type": "stream",
          "text": [
            "\n",
            " 2. Probability of Diabetes given evidence= Age \n",
            "+------------+----------------+\n",
            "| Outcome    |   phi(Outcome) |\n",
            "+============+================+\n",
            "| Outcome(0) |         0.5008 |\n",
            "+------------+----------------+\n",
            "| Outcome(1) |         0.4992 |\n",
            "+------------+----------------+\n"
          ],
          "name": "stdout"
        },
        {
          "output_type": "stream",
          "text": [
            "\n"
          ],
          "name": "stderr"
        }
      ]
    },
    {
      "cell_type": "code",
      "metadata": {
        "id": "IqrH0_Q4RuDz"
      },
      "source": [
        ""
      ],
      "execution_count": 18,
      "outputs": []
    }
  ]
}