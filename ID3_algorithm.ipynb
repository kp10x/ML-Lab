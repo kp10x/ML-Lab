{
  "nbformat": 4,
  "nbformat_minor": 0,
  "metadata": {
    "colab": {
      "name": "ID3 algorithm.ipynb",
      "provenance": [],
      "toc_visible": true,
      "authorship_tag": "ABX9TyNXmzKtA+C2pfeJHElzmKqd",
      "include_colab_link": true
    },
    "kernelspec": {
      "name": "python3",
      "display_name": "Python 3"
    },
    "language_info": {
      "name": "python"
    }
  },
  "cells": [
    {
      "cell_type": "markdown",
      "metadata": {
        "id": "view-in-github",
        "colab_type": "text"
      },
      "source": [
        "<a href=\"https://colab.research.google.com/github/kp10x/ML-Lab/blob/main/ID3_algorithm.ipynb\" target=\"_parent\"><img src=\"https://colab.research.google.com/assets/colab-badge.svg\" alt=\"Open In Colab\"/></a>"
      ]
    },
    {
      "cell_type": "markdown",
      "metadata": {
        "id": "zPLtzp6GGZ8u"
      },
      "source": [
        "# ID3 algorithm"
      ]
    },
    {
      "cell_type": "code",
      "metadata": {
        "id": "UipCR4N6GdUt"
      },
      "source": [
        "import math\n",
        "import csv"
      ],
      "execution_count": 1,
      "outputs": []
    },
    {
      "cell_type": "code",
      "metadata": {
        "id": "QYJmW10wGeQN"
      },
      "source": [
        "#csv functions\n",
        "def load_csv(filename):\n",
        "  lines = csv.reader(open(filename, \"r\"))\n",
        "  dataset = list(lines)\n",
        "  headers = dataset.pop(0)\n",
        "  return dataset, headers\n",
        "\n",
        "class Node:\n",
        "  def __init__(self, attribute):\n",
        "    self.attribute = attribute\n",
        "    self.children = []\n",
        "    self.answer = ''\n",
        "  \n",
        "def subtables(data, col, delete):\n",
        "  dic = {}\n",
        "  coldata = [row [col] for row in data]\n",
        "  attr = list(set(coldata) )\n",
        "\n",
        "  counts = [0] *len (attr)\n",
        "  r = len(data)\n",
        "  c = len(data[0])\n",
        "  for x in range (len(attr)):\n",
        "    for y in range(r):\n",
        "      if data[y][col] == attr[x]:\n",
        "        counts [x] += 1\n",
        "\n",
        "  for x in range (len(attr)):\n",
        "    dic[attr[x]] = [[0 for i in range(c)] for j in range(counts[x])]\n",
        "    pos=0\n",
        "  for y in range(r) :\n",
        "    if data[y][col] == attr[x]:\n",
        "      if delete:\n",
        "        del data[y][col]\n",
        "      dic[attr[x]][pos] = data[y]\n",
        "      pos += 1\n",
        "  return attr, dic"
      ],
      "execution_count": 2,
      "outputs": []
    },
    {
      "cell_type": "code",
      "metadata": {
        "id": "fABXXqXdGiNW"
      },
      "source": [
        "#id3 and tree functions\n",
        "def entropy (S) :\n",
        "  attr = list(set(S))\n",
        "  if len(attr) == 1:\n",
        "    return 0\n",
        "\n",
        "  counts = [0, 0]\n",
        "  for i in range(2):\n",
        "    counts[i] = sum([1 for x in S if attr[i] == x]) / (len(S) * 1.0)\n",
        "\n",
        "  sums = 0\n",
        "  for cnt in counts:\n",
        "    sums += -1 * cnt * math.log(cnt, 2)\n",
        "  return sums\n",
        "\n",
        "def compute_gain(data, col) :\n",
        "  attr, dic = subtables(data, col, delete=False)\n",
        "  total_size = len(data)\n",
        "  entropies = [0] * len(attr)\n",
        "  ratio = [0] * len(attr)\n",
        "\n",
        "  total_entropy = entropy([row[-1] for row in data])\n",
        "  for x in range(len(attr)) :\n",
        "    ratio[x] = len(dic[attr[x]]) / (total_size * 1.0)\n",
        "    entropies[x] = entropy([row[-1] for row in dic[attr[x]]])\n",
        "    total_entropy -= ratio[x] * entropies[x]\n",
        "  return total_entropy\n",
        "\n",
        "def build_tree(data, features) :\n",
        "  lastcol = [row[-1] for row in data]\n",
        "  if(len(set(lastcol))) == 1:\n",
        "    node = Node('')\n",
        "    node.answer = lastcol[0]\n",
        "    return node\n",
        "  \n",
        "  n = len(data[0]) - 1\n",
        "  gains = [0] * n\n",
        "  for col in range(n):\n",
        "    gains[col] = compute_gain(data, col)\n",
        "    split = gains.index(max(gains))\n",
        "    node = Node(features[split])\n",
        "    fea = features[:split] + features[split + 1:]\n",
        "\n",
        "    attr, dic = subtables(data, split, delete=True)\n",
        "    for x in range(len(attr)):\n",
        "      child = build_tree(dic[attr[x]], fea)\n",
        "      node.children.append((attr[x], child))\n",
        "    return node\n",
        "\n",
        "def print_tree (node, level) :\n",
        "  if node.answer != '':\n",
        "    print(\" \" * level, node.answer)\n",
        "    return\n",
        "\n",
        "  print(\" \" * level, node.attribute)\n",
        "  for value, n in node.children:\n",
        "    print(\" \" * (level + 1), value)\n",
        "    print_tree(n, level + 2)\n",
        "\n",
        "def classify (node, x_test, features):\n",
        "  if node.answer != '':\n",
        "    print(node.answer)\n",
        "    return\n",
        "  pos = features.index(node.attribute)\n",
        "  for value, n in node.children:\n",
        "    if x_test[pos] == value:\n",
        "      classify (n, x_test, features)"
      ],
      "execution_count": 3,
      "outputs": []
    },
    {
      "cell_type": "code",
      "metadata": {
        "colab": {
          "base_uri": "https://localhost:8080/"
        },
        "id": "mysDU6AeH_Iw",
        "outputId": "273d4de1-afae-4f8b-f26a-686e9e05b825"
      },
      "source": [
        "#main function\n",
        "dataset, features = load_csv('id3.csv')\n",
        "node1 = build_tree(dataset, features)\n",
        "\n",
        "print(\"The decision tree:\")\n",
        "print_tree(node1, 0)"
      ],
      "execution_count": 5,
      "outputs": [
        {
          "output_type": "stream",
          "text": [
            "The decision tree:\n",
            " Outlook\n",
            "  rain\n",
            "   0\n",
            "  sunny\n",
            "   0\n",
            "  overcast\n",
            "   yes\n"
          ],
          "name": "stdout"
        }
      ]
    },
    {
      "cell_type": "code",
      "metadata": {
        "id": "9LKC6pCvICZP"
      },
      "source": [
        ""
      ],
      "execution_count": null,
      "outputs": []
    }
  ]
}